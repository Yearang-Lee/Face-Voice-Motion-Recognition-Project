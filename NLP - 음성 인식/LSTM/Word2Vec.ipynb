{
 "cells": [
  {
   "cell_type": "code",
   "execution_count": 3,
   "metadata": {},
   "outputs": [
    {
     "name": "stdout",
     "output_type": "stream",
     "text": [
      "Requirement already satisfied: gensim in /home/piai/anaconda3/envs/nlp/lib/python3.7/site-packages (3.8.3)\n",
      "Requirement already satisfied: numpy>=1.11.3 in /home/piai/anaconda3/envs/nlp/lib/python3.7/site-packages (from gensim) (1.18.5)\n",
      "Requirement already satisfied: six>=1.5.0 in /home/piai/anaconda3/envs/nlp/lib/python3.7/site-packages (from gensim) (1.15.0)\n",
      "Requirement already satisfied: scipy>=0.18.1 in /home/piai/anaconda3/envs/nlp/lib/python3.7/site-packages (from gensim) (1.4.1)\n",
      "Requirement already satisfied: smart-open>=1.8.1 in /home/piai/anaconda3/envs/nlp/lib/python3.7/site-packages (from gensim) (2.1.0)\n",
      "Requirement already satisfied: boto in /home/piai/anaconda3/envs/nlp/lib/python3.7/site-packages (from smart-open>=1.8.1->gensim) (2.49.0)\n",
      "Requirement already satisfied: boto3 in /home/piai/anaconda3/envs/nlp/lib/python3.7/site-packages (from smart-open>=1.8.1->gensim) (1.14.35)\n",
      "Requirement already satisfied: requests in /home/piai/anaconda3/envs/nlp/lib/python3.7/site-packages (from smart-open>=1.8.1->gensim) (2.24.0)\n",
      "Requirement already satisfied: s3transfer<0.4.0,>=0.3.0 in /home/piai/anaconda3/envs/nlp/lib/python3.7/site-packages (from boto3->smart-open>=1.8.1->gensim) (0.3.3)\n",
      "Requirement already satisfied: botocore<1.18.0,>=1.17.35 in /home/piai/anaconda3/envs/nlp/lib/python3.7/site-packages (from boto3->smart-open>=1.8.1->gensim) (1.17.35)\n",
      "Requirement already satisfied: jmespath<1.0.0,>=0.7.1 in /home/piai/anaconda3/envs/nlp/lib/python3.7/site-packages (from boto3->smart-open>=1.8.1->gensim) (0.10.0)\n",
      "Requirement already satisfied: chardet<4,>=3.0.2 in /home/piai/anaconda3/envs/nlp/lib/python3.7/site-packages (from requests->smart-open>=1.8.1->gensim) (3.0.4)\n",
      "Requirement already satisfied: idna<3,>=2.5 in /home/piai/anaconda3/envs/nlp/lib/python3.7/site-packages (from requests->smart-open>=1.8.1->gensim) (2.10)\n",
      "Requirement already satisfied: certifi>=2017.4.17 in /home/piai/anaconda3/envs/nlp/lib/python3.7/site-packages (from requests->smart-open>=1.8.1->gensim) (2017.7.27.1)\n",
      "Requirement already satisfied: urllib3!=1.25.0,!=1.25.1,<1.26,>=1.21.1 in /home/piai/anaconda3/envs/nlp/lib/python3.7/site-packages (from requests->smart-open>=1.8.1->gensim) (1.25.10)\n",
      "Requirement already satisfied: docutils<0.16,>=0.10 in /home/piai/anaconda3/envs/nlp/lib/python3.7/site-packages (from botocore<1.18.0,>=1.17.35->boto3->smart-open>=1.8.1->gensim) (0.15.2)\n",
      "Requirement already satisfied: python-dateutil<3.0.0,>=2.1 in /home/piai/anaconda3/envs/nlp/lib/python3.7/site-packages (from botocore<1.18.0,>=1.17.35->boto3->smart-open>=1.8.1->gensim) (2.8.1)\n"
     ]
    }
   ],
   "source": [
    "!pip install gensim"
   ]
  },
  {
   "cell_type": "code",
   "execution_count": 5,
   "metadata": {},
   "outputs": [],
   "source": [
    "import gensim"
   ]
  },
  {
   "cell_type": "code",
   "execution_count": 39,
   "metadata": {},
   "outputs": [
    {
     "name": "stdout",
     "output_type": "stream",
     "text": [
      "[ 1.1438391   0.59674585 -1.5466809  -1.2934669   1.367639   -1.7097468\n",
      "  0.01128301 -1.2021462  -1.9678081  -1.9006035  -0.4591847  -0.36502936\n",
      " -1.0845855   0.52514154  1.6800337  -0.8251737   1.0640031  -1.5615352\n",
      " -0.5862817  -1.0838828   1.0933989   0.4838253  -0.44876182  0.70446736\n",
      "  0.85267234  1.5012038  -0.08894323  0.53509295  0.80675477  0.05965794\n",
      "  1.2361017   0.3374278  -0.49827206 -0.6484264  -1.6564202  -1.07672\n",
      " -1.8057343  -1.5170287  -0.462245    0.68819743 -0.09751334 -1.0311561\n",
      " -0.3354253  -0.39354655 -0.7975858  -0.6592121   0.4362863  -0.01787451\n",
      " -0.56285924 -0.01475934 -0.57657707 -0.7072984  -0.6035592   1.8496456\n",
      "  1.7690395  -0.34266075 -1.4841561   1.7961382   1.5807592   0.08864582\n",
      "  0.3324262   0.99225295 -1.148614   -0.9680289   0.8109467  -0.694948\n",
      " -0.25691333 -1.159541   -0.33445236 -0.40420136  0.2811938  -0.8880103\n",
      "  0.47148174  0.19194743  1.7118452   2.1209514   1.4719725  -0.97296697\n",
      "  1.3732471   2.2099087   1.1919938   0.00911137 -2.0799103  -0.5621882\n",
      " -1.4088275   1.5458     -1.4575758  -1.298548    1.0969607  -1.2981305\n",
      "  2.4977367   0.35684705 -0.3706592   0.0603176   0.03528054 -0.21538927\n",
      "  1.187327    0.29535627 -1.2572517  -0.15142584 -1.1221077   1.3208501\n",
      " -1.336907    1.5836016  -0.5552608  -1.3650638  -2.8565452   0.7621549\n",
      "  3.2973003   0.41867617 -0.30974787  0.5810468  -0.21993317 -0.55092376\n",
      "  0.02562538 -0.5166265  -2.4020224  -0.24042605 -1.2237669   1.2404325\n",
      "  1.6500453  -0.332052   -0.08217806  0.78533757 -2.0405498   0.68270594\n",
      "  0.64365274  1.7323287   1.9094162  -0.48149827  1.1224427  -0.36516094\n",
      "  1.2302194   0.0288839  -2.1969457   0.9487592  -0.48420373 -1.3034326\n",
      " -1.2346469  -0.82157874  1.8593864  -0.42417577  0.38406354  0.89808017\n",
      "  0.12659353 -2.132587   -0.01459389  0.22415417  1.4647388   1.4847667\n",
      "  0.5585957  -0.6456523   0.01860768  0.33448488  1.1495591  -0.87507635\n",
      "  0.7845473   0.7458844   0.9124595  -0.748108    1.4548688   0.9272948\n",
      " -1.314105   -1.7972533   0.172046    0.25916386  0.1961699  -0.07481931\n",
      " -0.4762502  -0.63544226 -0.69732463 -1.8278229   0.5652621   1.108201\n",
      " -0.05403046  1.1710329   1.0949135  -0.9355023  -1.2176236   0.00922746\n",
      "  0.17845647  0.3338124   0.60328346 -0.6939928  -0.9838104  -1.2273945\n",
      "  0.2652553   0.8406286  -1.7300848  -1.257729    1.2379631  -0.60745907\n",
      "  1.3944489   0.15668286 -0.9962407  -1.802665   -0.5036235  -0.6047524\n",
      "  0.26934895  1.0731355 ]\n"
     ]
    }
   ],
   "source": [
    "ko_model = gensim.models.Word2Vec.load('./ko/ko.bin')\n",
    "a = ko_model.wv[\"\"]\n",
    "print(a)"
   ]
  },
  {
   "cell_type": "code",
   "execution_count": 25,
   "metadata": {},
   "outputs": [
    {
     "data": {
      "text/plain": [
       "tensor([0])"
      ]
     },
     "execution_count": 25,
     "metadata": {},
     "output_type": "execute_result"
    }
   ],
   "source": [
    "import torch\n",
    "a = torch.tensor([[5,1]])\n",
    "result = torch.max(a,1)\n",
    "# result.values.item()\n",
    "result.indices"
   ]
  },
  {
   "cell_type": "code",
   "execution_count": null,
   "metadata": {},
   "outputs": [],
   "source": []
  }
 ],
 "metadata": {
  "kernelspec": {
   "display_name": "Python 3",
   "language": "python",
   "name": "python3"
  },
  "language_info": {
   "codemirror_mode": {
    "name": "ipython",
    "version": 3
   },
   "file_extension": ".py",
   "mimetype": "text/x-python",
   "name": "python",
   "nbconvert_exporter": "python",
   "pygments_lexer": "ipython3",
   "version": "3.7.6"
  }
 },
 "nbformat": 4,
 "nbformat_minor": 4
}
