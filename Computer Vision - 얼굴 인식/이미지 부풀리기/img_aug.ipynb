{
 "cells": [
  {
   "cell_type": "markdown",
   "metadata": {},
   "source": [
    "# 0. train_raw 파일에 있는 jpg형식만 리스트에 저장"
   ]
  },
  {
   "cell_type": "code",
   "execution_count": 1,
   "metadata": {},
   "outputs": [
    {
     "name": "stdout",
     "output_type": "stream",
     "text": [
      "file_list_jpeg: ['suho.jpeg', 'jiyun.jpeg', 'yearang.jpeg', 'seonghee.jpeg', 'jaewon.jpeg', 'hangyeol.jpeg']\n"
     ]
    }
   ],
   "source": [
    "import os\n",
    "\n",
    "path = \"./train_raw\"\n",
    "file_list = os.listdir(path)\n",
    "file_list_jpeg = [file for file in file_list if file.endswith(\".jpeg\")]\n",
    "\n",
    "print (\"file_list_jpeg: {}\".format(file_list_jpeg))"
   ]
  },
  {
   "cell_type": "code",
   "execution_count": 2,
   "metadata": {},
   "outputs": [],
   "source": [
    "file_list_jpeg = ['suho.jpeg']"
   ]
  },
  {
   "cell_type": "markdown",
   "metadata": {},
   "source": [
    "# 1. 얼굴 부분만 데이터로 저장하기\n",
    "## train_raw 파일 ==> train_cascade 파일"
   ]
  },
  {
   "cell_type": "code",
   "execution_count": 3,
   "metadata": {},
   "outputs": [
    {
     "name": "stdout",
     "output_type": "stream",
     "text": [
      "train_cascade/suho.jpeg\n"
     ]
    }
   ],
   "source": [
    "import cv2\n",
    "import numpy as np\n",
    "\n",
    " \n",
    "for j in range(len(file_list_jpeg)):\n",
    "    # 테스트 이미지 불러오기\n",
    "    img = cv2.imread('train_raw/'+file_list_jpeg[j])\n",
    "    img = cv2.resize(img,(800,800))\n",
    "\n",
    "    # RGB -> Gray로 변환\n",
    "    # 얼굴 찾기 위해 그레이스케일로 학습되어 있기때문에 맞춰줘야 한다.\n",
    "    img_gray = cv2.cvtColor(img, cv2.COLOR_BGR2GRAY)\n",
    "\n",
    "\n",
    "\n",
    "    # 정면 얼굴 인식용 cascade xml 불러오기\n",
    "    face_cascade = cv2.CascadeClassifier('haarcascades/haarcascade_frontalface_default.xml')\n",
    "\n",
    "    # 이미지내에서 얼굴 검출\n",
    "    faces = face_cascade.detectMultiScale(img_gray, 1.3, 5)\n",
    "\n",
    "\n",
    "    # 얼굴 검출되었다면 좌표 정보를 리턴 받고, 없으면 오류\n",
    "    for (x,y,w,h) in faces:\n",
    "        cv2.rectangle(img,(x,y),(x+w,y+h),(255,0,0),2) # 원본 영상에 위치 표시\n",
    "        roi_gray = img_gray[y:y+h, x:x+w] # roi 생성\n",
    "        roi_color = img[y:y+h, x:x+w] # roi \n",
    "\n",
    "#     cv2.imshow('img',roi_color)\n",
    "    save_to_dir='train_cascade/{}.jpeg'.format(file_list_jpeg[j][:-5])\n",
    "    save_to_dir = \"{}\".format(save_to_dir)\n",
    "    print(save_to_dir)\n",
    "\n",
    "    cv2.imwrite(save_to_dir,roi_color)\n",
    "\n",
    "    cv2.waitKey(0)\n",
    "    cv2.destroyAllWindows()### 얼굴 부분만 데이터로 저장하기"
   ]
  },
  {
   "cell_type": "markdown",
   "metadata": {},
   "source": [
    "# 2. Image Augmentation\n",
    "## train_cascade 파일 ==> train_aug 파일"
   ]
  },
  {
   "cell_type": "code",
   "execution_count": 4,
   "metadata": {},
   "outputs": [
    {
     "name": "stderr",
     "output_type": "stream",
     "text": [
      "Using TensorFlow backend.\n"
     ]
    }
   ],
   "source": [
    "from keras.preprocessing.image import ImageDataGenerator, array_to_img, img_to_array, load_img\n",
    "\n",
    "datagen = ImageDataGenerator(\n",
    "        rotation_range=20,        # 랜덤한 각도로 돌리기 (지정한 숫자 안에서)\n",
    "        width_shift_range=0.1,    # 좌/우 이동\n",
    "        height_shift_range=0.1,   # 위 아래 이동\n",
    "        shear_range=0.9,          # 도 단위의 반시계 방향 층밀리기 각도\n",
    "        zoom_range=[0.8,0.99],    # 랜덤하게 zoom\n",
    "        brightness_range = [0.1,1.0],  # 랜덤한 이미지 밝기 (0:검정)\n",
    "        horizontal_flip=True)     # 좌우 반전\n",
    "\n",
    "\n",
    "for j in range(len(file_list_jpeg)):\n",
    "    img = load_img('train_cascade/'+file_list_jpeg[j])\n",
    "    x = img_to_array(img)  # (3, 150, 150) 크기의 NumPy 배열\n",
    "    x = x.reshape((1,) + x.shape)  # (1, 3, 150, 150) 크기의 NumPy 배열\n",
    "\n",
    "    i = 0\n",
    "    for batch in datagen.flow(x, batch_size=1,\n",
    "                              save_to_dir='train_aug/{}'.format(file_list_jpeg[j][:-5]), save_prefix='img {}'.format(file_list_jpeg[j]), save_format='jpeg'):\n",
    "        i += 1\n",
    "        if i > 500:\n",
    "            break "
   ]
  },
  {
   "cell_type": "code",
   "execution_count": null,
   "metadata": {},
   "outputs": [],
   "source": []
  }
 ],
 "metadata": {
  "kernelspec": {
   "display_name": "Python 3",
   "language": "python",
   "name": "python3"
  },
  "language_info": {
   "codemirror_mode": {
    "name": "ipython",
    "version": 3
   },
   "file_extension": ".py",
   "mimetype": "text/x-python",
   "name": "python",
   "nbconvert_exporter": "python",
   "pygments_lexer": "ipython3",
   "version": "3.7.7"
  }
 },
 "nbformat": 4,
 "nbformat_minor": 4
}
